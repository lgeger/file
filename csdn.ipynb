{
  "nbformat": 4,
  "nbformat_minor": 0,
  "metadata": {
    "colab": {
      "provenance": [],
      "authorship_tag": "ABX9TyMpjNv/HhSojgaxcvqmxOxS",
      "include_colab_link": true
    },
    "kernelspec": {
      "name": "python3",
      "display_name": "Python 3"
    },
    "language_info": {
      "name": "python"
    }
  },
  "cells": [
    {
      "cell_type": "markdown",
      "metadata": {
        "id": "view-in-github",
        "colab_type": "text"
      },
      "source": [
        "<a href=\"https://colab.research.google.com/github/lgeger/file/blob/main/csdn.ipynb\" target=\"_parent\"><img src=\"https://colab.research.google.com/assets/colab-badge.svg\" alt=\"Open In Colab\"/></a>"
      ]
    },
    {
      "cell_type": "code",
      "execution_count": 4,
      "metadata": {
        "colab": {
          "base_uri": "https://localhost:8080/"
        },
        "id": "rMJPvGdkRS6p",
        "outputId": "d074c041-f6fb-40d9-c63c-c8805be50a98"
      },
      "outputs": [
        {
          "output_type": "stream",
          "name": "stdout",
          "text": [
            "200\n",
            "200\n",
            "200\n",
            "200\n",
            "200\n",
            "200\n",
            "爬取并保存完成\n"
          ]
        }
      ],
      "source": [
        "import requests\n",
        "from bs4 import BeautifulSoup\n",
        "import re\n",
        "import json\n",
        "import pandas as pd\n",
        "import time\n",
        "\n",
        "def get_article_links(user_profile_url):\n",
        "    links = []\n",
        "    page = 1\n",
        "    while True:\n",
        "        headers = {\n",
        "            'User-Agent': 'Mozilla/5.0 (Macintosh; Intel Mac OS X 10_15_7) AppleWebKit/537.36 (KHTML, like Gecko) Chrome/91.0.4472.114 Safari/537.36'\n",
        "        }\n",
        "        response = requests.get(f\"{user_profile_url}/article/list/{page}\", headers=headers)\n",
        "        print(response.status_code)\n",
        "        # response = requests.get(f\"{user_profile_url}/article/list/{page}\")\n",
        "        soup = BeautifulSoup(response.content, 'html.parser')\n",
        "        article_tags = soup.find_all('a', href=True)\n",
        "        new_links = [tag['href'] for tag in article_tags if '/lfmilaoshi/article/details/' in tag['href']]\n",
        "        if not new_links:\n",
        "            break\n",
        "        links.extend(new_links)\n",
        "        page += 1\n",
        "        if page>6:\n",
        "            break\n",
        "        time.sleep(1)  # 避免请求过于频繁，暂停1秒\n",
        "    return links\n",
        "\n",
        "def get_article_content(article_url):\n",
        "    headers = {\n",
        "        'User-Agent': 'Mozilla/5.0 (Macintosh; Intel Mac OS X 10_15_7) AppleWebKit/537.36 (KHTML, like Gecko) Chrome/91.0.4472.114 Safari/537.36'\n",
        "    }\n",
        "    response = requests.get(article_url, headers=headers)\n",
        "    soup = BeautifulSoup(response.content, 'html.parser')\n",
        "    title = soup.find('title').get_text().strip()\n",
        "    content_tag = soup.find('div', {'id': 'content_views'})\n",
        "    if content_tag:\n",
        "        content = content_tag.get_text().strip()\n",
        "    else:\n",
        "        content = \"\"\n",
        "    return {'title': title, 'content': content}\n",
        "\n",
        "def clean_content(content):\n",
        "    content = re.sub(r'<.*?>', '', content)\n",
        "    content = re.sub(r'\\s+', ' ', content).strip()\n",
        "    return content\n",
        "\n",
        "user_profile_url = 'https://blog.csdn.net/lfmilaoshi'\n",
        "article_links = get_article_links(user_profile_url)\n",
        "\n",
        "articles = []\n",
        "for link in article_links:\n",
        "    full_link = f\"https://blog.csdn.net{link}\"\n",
        "    article = get_article_content(link)\n",
        "    article['content'] = clean_content(article['content'])\n",
        "    articles.append(article)\n",
        "\n",
        "# 保存为JSON文件\n",
        "with open('csdn_articles.json', 'w', encoding='utf-8') as f:\n",
        "    json.dump(articles, f, ensure_ascii=False, indent=4)\n",
        "\n",
        "# 格式化为CSV文件\n",
        "data = {'question': [], 'answer': []}\n",
        "for article in articles:\n",
        "    data['question'].append(article['title'])\n",
        "    data['answer'].append(article['content'])\n",
        "\n",
        "df = pd.DataFrame(data)\n",
        "df.to_csv('csdn_articles.csv', index=False)\n",
        "\n",
        "print(\"爬取并保存完成\")\n"
      ]
    }
  ]
}